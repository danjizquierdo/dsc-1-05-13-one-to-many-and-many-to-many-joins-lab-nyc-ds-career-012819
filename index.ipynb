{
 "cells": [
  {
   "cell_type": "markdown",
   "metadata": {},
   "source": [
    "# One-to-Many and Many-to-Many Joins - Lab"
   ]
  },
  {
   "cell_type": "markdown",
   "metadata": {},
   "source": [
    "## Introduction"
   ]
  },
  {
   "cell_type": "markdown",
   "metadata": {},
   "source": [
    "In this lab, you'll practice your knowledge on One-to-Many and Many-to-many relationships!"
   ]
  },
  {
   "cell_type": "markdown",
   "metadata": {},
   "source": [
    "## Objectives"
   ]
  },
  {
   "cell_type": "markdown",
   "metadata": {},
   "source": [
    "You will be able to:\n",
    "- Query data including Many-to-Many relationships\n",
    "- Write queries that make use of Join Tables"
   ]
  },
  {
   "cell_type": "markdown",
   "metadata": {},
   "source": [
    "## One-to-Many and Many-to-Many Joins\n",
    "<img src='Database-Schema.png' width=550>"
   ]
  },
  {
   "cell_type": "markdown",
   "metadata": {},
   "source": [
    "## Employees and their Office (a One-to-One join)\n",
    "\n",
    "Return a list of all of the employees with their first name, last name and the city and state of the office that they work out of (if they have one). Include all employees and order them by their first name, then their last name."
   ]
  },
  {
   "cell_type": "code",
   "execution_count": 7,
   "metadata": {},
   "outputs": [],
   "source": [
    "import pandas as pd"
   ]
  },
  {
   "cell_type": "code",
   "execution_count": 2,
   "metadata": {},
   "outputs": [],
   "source": [
    "import sqlite3\n",
    "conn = sqlite3.connect('data.sqlite', detect_types=sqlite3.PARSE_COLNAMES)\n",
    "c=conn.cursor()"
   ]
  },
  {
   "cell_type": "code",
   "execution_count": 4,
   "metadata": {},
   "outputs": [
    {
     "data": {
      "text/plain": [
       "[('Andy', 'Fixter', 'Sydney', ''),\n",
       " ('Anthony', 'Bow', 'San Francisco', 'CA'),\n",
       " ('Barry', 'Jones', 'London', ''),\n",
       " ('Diane', 'Murphy', 'San Francisco', 'CA'),\n",
       " ('Foon Yue', 'Tseng', 'NYC', 'NY'),\n",
       " ('George', 'Vanauf', 'NYC', 'NY'),\n",
       " ('Gerard', 'Hernandez', 'Paris', ''),\n",
       " ('Gerard', 'Bondur', 'Paris', ''),\n",
       " ('Jeff', 'Firrelli', 'San Francisco', 'CA'),\n",
       " ('Julie', 'Firrelli', 'Boston', 'MA'),\n",
       " ('Larry', 'Bott', 'London', ''),\n",
       " ('Leslie', 'Thompson', 'San Francisco', 'CA'),\n",
       " ('Leslie', 'Jennings', 'San Francisco', 'CA'),\n",
       " ('Loui', 'Bondur', 'Paris', ''),\n",
       " ('Mami', 'Nishi', 'Tokyo', 'Chiyoda-Ku'),\n",
       " ('Martin', 'Gerard', 'Paris', ''),\n",
       " ('Mary', 'Patterson', 'San Francisco', 'CA'),\n",
       " ('Pamela', 'Castillo', 'Paris', ''),\n",
       " ('Peter', 'Marsh', 'Sydney', ''),\n",
       " ('Steve', 'Patterson', 'Boston', 'MA'),\n",
       " ('Tom', 'King', 'Sydney', ''),\n",
       " ('William', 'Patterson', 'Sydney', ''),\n",
       " ('Yoshimi', 'Kato', 'Tokyo', 'Chiyoda-Ku')]"
      ]
     },
     "execution_count": 4,
     "metadata": {},
     "output_type": "execute_result"
    }
   ],
   "source": [
    "c.execute(\"\"\"SELECT firstName,lastName, city, state\n",
    "            FROM employees\n",
    "            JOIN offices\n",
    "            USING (officeCode)\n",
    "            ORDER BY firstName, lastName DESC\n",
    "    ;\"\"\").fetchall()"
   ]
  },
  {
   "cell_type": "markdown",
   "metadata": {},
   "source": [
    "## Customers and their Orders (a One-to-Many join)\n",
    "\n",
    "Return a list of all of the customers. For each customer return a record for each of their order numbers, order dates and statuses."
   ]
  },
  {
   "cell_type": "code",
   "execution_count": 9,
   "metadata": {},
   "outputs": [
    {
     "data": {
      "text/html": [
       "<div>\n",
       "<style scoped>\n",
       "    .dataframe tbody tr th:only-of-type {\n",
       "        vertical-align: middle;\n",
       "    }\n",
       "\n",
       "    .dataframe tbody tr th {\n",
       "        vertical-align: top;\n",
       "    }\n",
       "\n",
       "    .dataframe thead th {\n",
       "        text-align: right;\n",
       "    }\n",
       "</style>\n",
       "<table border=\"1\" class=\"dataframe\">\n",
       "  <thead>\n",
       "    <tr style=\"text-align: right;\">\n",
       "      <th></th>\n",
       "      <th>customerName</th>\n",
       "      <th>orderNumber</th>\n",
       "      <th>orderDate</th>\n",
       "      <th>status</th>\n",
       "    </tr>\n",
       "  </thead>\n",
       "  <tbody>\n",
       "    <tr>\n",
       "      <th>0</th>\n",
       "      <td>Atelier graphique</td>\n",
       "      <td>10123</td>\n",
       "      <td>2003-05-20</td>\n",
       "      <td>Shipped</td>\n",
       "    </tr>\n",
       "    <tr>\n",
       "      <th>1</th>\n",
       "      <td>Atelier graphique</td>\n",
       "      <td>10298</td>\n",
       "      <td>2004-09-27</td>\n",
       "      <td>Shipped</td>\n",
       "    </tr>\n",
       "    <tr>\n",
       "      <th>2</th>\n",
       "      <td>Atelier graphique</td>\n",
       "      <td>10345</td>\n",
       "      <td>2004-11-25</td>\n",
       "      <td>Shipped</td>\n",
       "    </tr>\n",
       "    <tr>\n",
       "      <th>3</th>\n",
       "      <td>Signal Gift Stores</td>\n",
       "      <td>10124</td>\n",
       "      <td>2003-05-21</td>\n",
       "      <td>Shipped</td>\n",
       "    </tr>\n",
       "    <tr>\n",
       "      <th>4</th>\n",
       "      <td>Signal Gift Stores</td>\n",
       "      <td>10278</td>\n",
       "      <td>2004-08-06</td>\n",
       "      <td>Shipped</td>\n",
       "    </tr>\n",
       "  </tbody>\n",
       "</table>\n",
       "</div>"
      ],
      "text/plain": [
       "         customerName orderNumber   orderDate   status\n",
       "0   Atelier graphique       10123  2003-05-20  Shipped\n",
       "1   Atelier graphique       10298  2004-09-27  Shipped\n",
       "2   Atelier graphique       10345  2004-11-25  Shipped\n",
       "3  Signal Gift Stores       10124  2003-05-21  Shipped\n",
       "4  Signal Gift Stores       10278  2004-08-06  Shipped"
      ]
     },
     "execution_count": 9,
     "metadata": {},
     "output_type": "execute_result"
    }
   ],
   "source": [
    "c.execute(\"\"\"SELECT customerName,orderNumber, orderDate, status\n",
    "            FROM customers\n",
    "            JOIN orders\n",
    "            USING (customerNumber)\n",
    "    ;\"\"\")\n",
    "df = pd.DataFrame(c.fetchall())\n",
    "df. columns = [i[0] for i in c.description]\n",
    "df.head()"
   ]
  },
  {
   "cell_type": "markdown",
   "metadata": {},
   "source": [
    "## Orders and their Order Details (another One-to-Many join)\n",
    "\n",
    "Return a list of orders. For each order return a record for each order detail within the order."
   ]
  },
  {
   "cell_type": "code",
   "execution_count": 10,
   "metadata": {},
   "outputs": [
    {
     "data": {
      "text/html": [
       "<div>\n",
       "<style scoped>\n",
       "    .dataframe tbody tr th:only-of-type {\n",
       "        vertical-align: middle;\n",
       "    }\n",
       "\n",
       "    .dataframe tbody tr th {\n",
       "        vertical-align: top;\n",
       "    }\n",
       "\n",
       "    .dataframe thead th {\n",
       "        text-align: right;\n",
       "    }\n",
       "</style>\n",
       "<table border=\"1\" class=\"dataframe\">\n",
       "  <thead>\n",
       "    <tr style=\"text-align: right;\">\n",
       "      <th></th>\n",
       "      <th>orderNumber</th>\n",
       "      <th>productCode</th>\n",
       "      <th>quantityOrdered</th>\n",
       "      <th>priceEach</th>\n",
       "      <th>orderLineNumber</th>\n",
       "    </tr>\n",
       "  </thead>\n",
       "  <tbody>\n",
       "    <tr>\n",
       "      <th>0</th>\n",
       "      <td>10100</td>\n",
       "      <td>S18_1749</td>\n",
       "      <td>30</td>\n",
       "      <td>136.00</td>\n",
       "      <td>3</td>\n",
       "    </tr>\n",
       "    <tr>\n",
       "      <th>1</th>\n",
       "      <td>10100</td>\n",
       "      <td>S18_2248</td>\n",
       "      <td>50</td>\n",
       "      <td>55.09</td>\n",
       "      <td>2</td>\n",
       "    </tr>\n",
       "    <tr>\n",
       "      <th>2</th>\n",
       "      <td>10100</td>\n",
       "      <td>S18_4409</td>\n",
       "      <td>22</td>\n",
       "      <td>75.46</td>\n",
       "      <td>4</td>\n",
       "    </tr>\n",
       "    <tr>\n",
       "      <th>3</th>\n",
       "      <td>10100</td>\n",
       "      <td>S24_3969</td>\n",
       "      <td>49</td>\n",
       "      <td>35.29</td>\n",
       "      <td>1</td>\n",
       "    </tr>\n",
       "    <tr>\n",
       "      <th>4</th>\n",
       "      <td>10101</td>\n",
       "      <td>S18_2325</td>\n",
       "      <td>25</td>\n",
       "      <td>108.06</td>\n",
       "      <td>4</td>\n",
       "    </tr>\n",
       "  </tbody>\n",
       "</table>\n",
       "</div>"
      ],
      "text/plain": [
       "  orderNumber productCode quantityOrdered priceEach orderLineNumber\n",
       "0       10100    S18_1749              30    136.00               3\n",
       "1       10100    S18_2248              50     55.09               2\n",
       "2       10100    S18_4409              22     75.46               4\n",
       "3       10100    S24_3969              49     35.29               1\n",
       "4       10101    S18_2325              25    108.06               4"
      ]
     },
     "execution_count": 10,
     "metadata": {},
     "output_type": "execute_result"
    }
   ],
   "source": [
    "c.execute(\"\"\"SELECT orderNumber, productCode, quantityOrdered,priceEach,orderLineNumber\n",
    "            FROM orders\n",
    "            JOIN orderDetails\n",
    "            USING (orderNumber)\n",
    "    ;\"\"\")\n",
    "df = pd.DataFrame(c.fetchall())\n",
    "df. columns = [i[0] for i in c.description]\n",
    "df.head()"
   ]
  },
  {
   "cell_type": "markdown",
   "metadata": {},
   "source": [
    "## Orders, Order details and Product Details (a Many-to-Many Join)"
   ]
  },
  {
   "cell_type": "markdown",
   "metadata": {},
   "source": [
    "Return a list of the orders with the the order information, and all the product information for each product in the order. "
   ]
  },
  {
   "cell_type": "code",
   "execution_count": 4,
   "metadata": {},
   "outputs": [],
   "source": [
    "c.execute(\"\"\"SELECT orderNumber, productCode, quantityOrdered,priceEach,orderLineNumber,\n",
    "\n",
    "            FROM orders\n",
    "            JOIN orderDetails\n",
    "            USING (orderNumber)\n",
    "    ;\"\"\")\n",
    "df = pd.DataFrame(c.fetchall())\n",
    "df. columns = [i[0] for i in c.description]\n",
    "df.head()"
   ]
  },
  {
   "cell_type": "markdown",
   "metadata": {},
   "source": [
    "## Summary"
   ]
  },
  {
   "cell_type": "markdown",
   "metadata": {},
   "source": [
    "In this lab, you practiced your knowledge on One-to-Many and Many-to-many relationships!"
   ]
  }
 ],
 "metadata": {
  "kernelspec": {
   "display_name": "Python 3",
   "language": "python",
   "name": "python3"
  },
  "language_info": {
   "codemirror_mode": {
    "name": "ipython",
    "version": 3
   },
   "file_extension": ".py",
   "mimetype": "text/x-python",
   "name": "python",
   "nbconvert_exporter": "python",
   "pygments_lexer": "ipython3",
   "version": "3.6.6"
  }
 },
 "nbformat": 4,
 "nbformat_minor": 2
}
